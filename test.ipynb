{
 "cells": [
  {
   "cell_type": "markdown",
   "metadata": {},
   "source": [
    "# Match History Project Start\n",
    "## Henry Gillis and Josiah Jackson"
   ]
  },
  {
   "cell_type": "markdown",
   "metadata": {},
   "source": [
    "- Using PyQt for UI start \n",
    "    - https://wiki.python.org/moin/PyQt/Tutorials\n"
   ]
  },
  {
   "cell_type": "code",
   "execution_count": 1,
   "metadata": {},
   "outputs": [
    {
     "name": "stdout",
     "output_type": "stream",
     "text": [
      "Requirement already satisfied: PyQt5 in c:\\users\\jjack\\anaconda3\\lib\\site-packages (5.15.7)\n",
      "Requirement already satisfied: PyQt5-sip<13,>=12.11 in c:\\users\\jjack\\anaconda3\\lib\\site-packages (from PyQt5) (12.11.0)\n"
     ]
    }
   ],
   "source": [
    "# !pip install PyQt5"
   ]
  },
  {
   "cell_type": "markdown",
   "metadata": {},
   "source": [
    "1) league_client_start.py\n",
    "2) Used https://designs.ai/colors to match color as closely as I reasonable could to the original colors\\\n",
    "3) downloaded click soundbites from: https://soundbible.com/835-Pen-Clicking.html\n",
    "4) Created 'Match History' Page and 'Home' page that navigate to when button is clicked\n",
    "\n",
    "- run in powershell or bash using 'python .\\league_client.py' or 'python league_client.py' "
   ]
  }
 ],
 "metadata": {
  "kernelspec": {
   "display_name": "base",
   "language": "python",
   "name": "python3"
  },
  "language_info": {
   "codemirror_mode": {
    "name": "ipython",
    "version": 3
   },
   "file_extension": ".py",
   "mimetype": "text/x-python",
   "name": "python",
   "nbconvert_exporter": "python",
   "pygments_lexer": "ipython3",
   "version": "3.9.16"
  }
 },
 "nbformat": 4,
 "nbformat_minor": 2
}
